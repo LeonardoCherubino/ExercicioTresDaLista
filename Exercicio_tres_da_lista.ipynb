{
  "nbformat": 4,
  "nbformat_minor": 0,
  "metadata": {
    "colab": {
      "name": "Exercicio tres da lista.ipynb",
      "provenance": [],
      "authorship_tag": "ABX9TyPRVLj5/IJrdtYgthQ3K4Pe",
      "include_colab_link": true
    },
    "kernelspec": {
      "name": "python3",
      "display_name": "Python 3"
    },
    "language_info": {
      "name": "python"
    }
  },
  "cells": [
    {
      "cell_type": "markdown",
      "metadata": {
        "id": "view-in-github",
        "colab_type": "text"
      },
      "source": [
        "<a href=\"https://colab.research.google.com/github/LeonardoCherubino/ExercicioTresDaLista/blob/main/Exercicio_tres_da_lista.ipynb\" target=\"_parent\"><img src=\"https://colab.research.google.com/assets/colab-badge.svg\" alt=\"Open In Colab\"/></a>"
      ]
    },
    {
      "cell_type": "code",
      "execution_count": null,
      "metadata": {
        "id": "xTyMWstAGR21"
      },
      "outputs": [],
      "source": [
        ""
      ]
    },
    {
      "cell_type": "markdown",
      "source": [
        "3. Faça um Programa que peça dois números e imprima a soma."
      ],
      "metadata": {
        "id": "VBA_Q5htGTIE"
      }
    },
    {
      "cell_type": "markdown",
      "source": [
        ""
      ],
      "metadata": {
        "id": "ZwPx5GThGSll"
      }
    },
    {
      "cell_type": "code",
      "source": [
        "a = int(input('Entre com um número: '))\n",
        "print(a)\n",
        "b = int(input('Entre com outro numero: '))\n",
        "print(b)\n",
        "c = a + b\n",
        "print('A soma é {}'.format(c))"
      ],
      "metadata": {
        "colab": {
          "base_uri": "https://localhost:8080/"
        },
        "id": "-2qVqFAqGW_c",
        "outputId": "49ac995f-9195-4ec3-ff9b-283b7b26020a"
      },
      "execution_count": 11,
      "outputs": [
        {
          "output_type": "stream",
          "name": "stdout",
          "text": [
            "Entre com um número: 10\n",
            "10\n",
            "Entre com outro numero: 20\n",
            "20\n",
            "A soma é 30\n"
          ]
        }
      ]
    }
  ]
}